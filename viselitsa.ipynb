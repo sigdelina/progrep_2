{
 "cells": [
  {
   "cell_type": "code",
   "execution_count": 1,
   "metadata": {},
   "outputs": [],
   "source": [
    "import random\n",
    "\n",
    "def openFile():                            #эта функция запрашивает у пользователя номер темы и после прочитывает тхт-файлы\n",
    "    a = input('Добро пожаловать в игру!\\n\\nВам предлагается на выбор три темы:\\\n",
    "              \\n1. Еда\\n2. Реки России\\n3. Математические термины\\n\\\n",
    "              \\nВыберите одну из них!Укажите цифру выбранной темы: ')\n",
    "    while a != '1' and a != '2' and a != '3':\n",
    "        a = input('Указанный вами номер отсутсвует или набран неправильно,\\\n",
    "                  выбирите тему еще раз: ')\n",
    "        if a == '1' or a == '2' or a == '3':\n",
    "            break\n",
    "    if a == '1':\n",
    "        with open('еда.txt', encoding='utf-8') as file:\n",
    "            t = file.read()\n",
    "    elif a == '2':\n",
    "        with open('Реки России.txt', encoding='utf-8') as file:\n",
    "            t = file.read()\n",
    "    elif a == '3':\n",
    "        with open('Математические термины.txt', encoding='utf-8') as file:\n",
    "            t = file.read()\n",
    "    return t"
   ]
  },
  {
   "cell_type": "code",
   "execution_count": 2,
   "metadata": {},
   "outputs": [],
   "source": [
    "def spisok(t):                              #функция делает список из тхт-файла, в котором хранятся слова, соответсвующие выбранной теме\n",
    "    sp = t.strip().split('\\n')\n",
    "    return sp"
   ]
  },
  {
   "cell_type": "code",
   "execution_count": 3,
   "metadata": {},
   "outputs": [],
   "source": [
    "def sluchano(sp):                           #функция выбирает случайное слово из списка и приводит все буквы к нижнему регистру\n",
    "    rand = random.choice(sp).lower()\n",
    "    return rand"
   ]
  },
  {
   "cell_type": "code",
   "execution_count": 4,
   "metadata": {},
   "outputs": [],
   "source": [
    "def oshibki():                              #в функции хранятся изменения в рисунке виселицы в зависмости от количесвтва ошибок\n",
    "    ne_verno = ['_________\\n|/\\n|\\n|\\n|\\n|\\n|\\n|\\n|\\ \\n|_\\___________________'\n",
    "                                                    '\\n//////////////////////',\n",
    "                '_________\\n|/\\n|\\n|\\n|\\n|\\n|\\n|\\n|\\   ______\\n|_\\__|____|'\n",
    "                                         '___________\\n//////////////////////',\n",
    "                '_________\\n|/      |\\n|       |\\n|\\n|\\n|\\n|\\n|\\n|\\   ______\\n'\n",
    "                              '|_\\__|____|___________\\n//////////////////////',\n",
    "                '_________\\n|/      |\\n|       |\\n|       O\\n|\\n|\\n|\\n|\\n|\\  '\n",
    "                     ' ______\\n|_\\__|____|___________\\n//////////////////////',\n",
    "                '_________\\n|/      |\\n|       |\\n|       O\\n|'\n",
    "                                '       *\\n|       |\\n|\\n|\\n|\\   ______\\n|_\\__'\n",
    "                                   '|____|___________\\n//////////////////////',\n",
    "                '_________\\n|/      |\\n|       |\\n|       O\\n|      /'\n",
    "                '*\\ \\n|       |\\n|\\n|\\n|\\   ______\\n|_\\__|____|'\n",
    "                                         '___________\\n//////////////////////',\n",
    "                '_________\\n|/      |\\n|       |\\n|       O\\n|      /*\\ \\n|   '\n",
    "                              '    |\\n|      / \\ \\n|\\n|\\   ______\\n|_\\__|____|'\n",
    "                                         '___________\\n//////////////////////',\n",
    "                '_________\\n|/      |\\n|       |\\n|      >_<\\n|      /*\\ \\n|'\n",
    "                              '       |\\n|      / \\ \\n|\\n|\\   ______\\n|_\\__|'\n",
    "                                    '____|___________\\n//////////////////////']\n",
    "    return ne_verno"
   ]
  },
  {
   "cell_type": "code",
   "execution_count": 5,
   "metadata": {},
   "outputs": [],
   "source": [
    "def spisForLet():                           #функция создает список для букв в выбранном слове\n",
    "    spisok_bukv = []\n",
    "    return spisok_bukv\n",
    "\n",
    "def wrongLet():                             # в функции лежит список для букв, введнных пользователем,но не входящих в рандомное слово\n",
    "    wrong_bukv = []\n",
    "    return wrong_bukv"
   ]
  },
  {
   "cell_type": "code",
   "execution_count": 6,
   "metadata": {},
   "outputs": [],
   "source": [
    "def kolichestvoOshibok():                   #количесвто ошибок, которые может допустить пользователь\n",
    "    oshibki = 8\n",
    "    return  oshibki"
   ]
  },
  {
   "cell_type": "code",
   "execution_count": 7,
   "metadata": {},
   "outputs": [],
   "source": [
    "def skl(oshibki):\n",
    "    sklonenie = ['попыток', 'попыток', 'попыток',\n",
    "                 'попыток', 'попытки', 'попытки',\n",
    "                            'попытки', 'попытка']\n",
    "    return sklonenie"
   ]
  },
  {
   "cell_type": "code",
   "execution_count": 8,
   "metadata": {},
   "outputs": [],
   "source": [
    "def uslovie(rand, spisok_bukv, ne_verno, wrong_bukv, oshibki, sklonenie):       #функция запрашивает у пользователя букву, приводит ее к нижнему регистру и, если такая существует, меняет _ на букву \n",
    "    while len(wrong_bukv) != 8:                                                 #цикл на одну попытку для пользователя\n",
    "        stro = ''                                                               #строчка, в которую будут записываться _\n",
    "        for letters in rand:                                                    # для рандомного слова создается строчка из _, в которой по ходу выполнения цикла будет выводиться либо буква,либо _ \n",
    "            if letters not in spisok_bukv:\n",
    "                stro += '_ '\n",
    "            else:\n",
    "                stro += letters + ' '\n",
    "        print('\\n\\nУ Вас есть ', oshibki, sklonenie[len(wrong_bukv)],           #попытки = количество допустимых ошибок\n",
    "                   ', чтобы угадать слово из ', len(rand), ' букв\\n',\n",
    "                                                  '\\n\\t', stro, '\\n')\n",
    "        let = input('Введите букву) если такая буква есть в слове,'\n",
    "                    'то _ заменится на нее: ').lower()\n",
    "        if let in spisok_bukv and len(let) == 1:                               #если буква уже есть в списке верных букв, то она отгадана, если пользователь ввел уже имеющуюся букву больше 1 раза это ОШИБКА!\n",
    "            wrong_bukv.append(let)\n",
    "            oshibki -= 1\n",
    "           # print(oshibki)\n",
    "            print('Буква', let, 'уже отгадна')\n",
    "        else:                                                                  #ситуация, когда верная буква введена первый раз\n",
    "            for letters in rand:\n",
    "                if let == letters:\n",
    "                    spisok_bukv.append(let)\n",
    "        #print(spisok_bukv)\n",
    "        if let not in spisok_bukv:                                              #рассматривается введенный символ,если его нет в слове\n",
    "            wrong_bukv.append(let)\n",
    "            print('Вы не угадали букву')\n",
    "            #print(wrong_bukv)\n",
    "            oshibki -= 1\n",
    "            #print(oshibki)\n",
    "            if let not in 'бвгдеёжзийклмнопрстуфхцчшщъыьэюя' and len(let) == 1: # ниже рассматриваются ситуации, когда вводится буква не заданного алфавита или сочетание (0) символов\n",
    "                if let in 'abcdefghijklmnopqrstuvxyz':\n",
    "                    print('Error: Введите киррилический символ')\n",
    "                else:\n",
    "                    print('Error: Введенный Вами символ не буква')\n",
    "            else:\n",
    "                if len(let) > 0:\n",
    "                    print('Error: Количество введенных символов больше одного')\n",
    "                if let == '':\n",
    "                    print('Error: Количество введенных символов меньше одного')\n",
    "        if len(wrong_bukv) > 0:                                                #выводится рисунок в зависимости от длины списка из неправильных букв\n",
    "            print(ne_verno[len(wrong_bukv)-1])\n",
    "        if len(wrong_bukv) == 8 or len(spisok_bukv) == len(rand):              #условия, при которых цикл завершается - либо слово угадано,либо закончились попытки\n",
    "            break\n",
    "        continue\n",
    "    return wrong_bukv"
   ]
  },
  {
   "cell_type": "code",
   "execution_count": 9,
   "metadata": {},
   "outputs": [],
   "source": [
    "def itog(wrong_bukv, rand):                                 #функция определяет, было ли угадано слово, и выводит его\n",
    "    if len(wrong_bukv) == 8:\n",
    "        it = \"\\nВы проиграли!(\\n\"\n",
    "    else:\n",
    "        it = '\\nВы выиграли!\\n'\n",
    "    zagadannoe = str(it) + 'Было загаданно слово:'\n",
    "    print(zagadannoe, rand)\n",
    "\n",
    "def returnF(zagadannoe):                                    #функция спрашивает у пользователя,хочет ли он сыграть еще раз, если да - игра продолжается, если нет - просиходит выход из программы\n",
    "    again = input('\\n\\nЧтобы сыграть еще раз введите Да,'\n",
    "                              'чтобы выйти введите Нет: ')\n",
    "    if again.lower() == 'да':\n",
    "        main()\n",
    "    else:\n",
    "        exit(0)"
   ]
  },
  {
   "cell_type": "code",
   "execution_count": null,
   "metadata": {},
   "outputs": [],
   "source": [
    "def main():                                                 #здесь лежат все функции\n",
    "    spi = spisok(openFile())\n",
    "    ran = sluchano(spi)\n",
    "    letter_spi = spisForLet()\n",
    "    wrong_letters = wrongLet()\n",
    "    os = oshibki()\n",
    "    kol_vo = kolichestvoOshibok()\n",
    "    forma_slov = skl(kol_vo)\n",
    "    tema = uslovie(ran, letter_spi, os, wrong_letters, kol_vo, forma_slov)\n",
    "    final = itog(tema, ran)\n",
    "    ret = returnF(final)\n",
    "    \n",
    "main()"
   ]
  },
  {
   "cell_type": "code",
   "execution_count": null,
   "metadata": {},
   "outputs": [],
   "source": []
  }
 ],
 "metadata": {
  "kernelspec": {
   "display_name": "Python 3",
   "language": "python",
   "name": "python3"
  },
  "language_info": {
   "codemirror_mode": {
    "name": "ipython",
    "version": 3
   },
   "file_extension": ".py",
   "mimetype": "text/x-python",
   "name": "python",
   "nbconvert_exporter": "python",
   "pygments_lexer": "ipython3",
   "version": "3.6.5"
  }
 },
 "nbformat": 4,
 "nbformat_minor": 2
}
